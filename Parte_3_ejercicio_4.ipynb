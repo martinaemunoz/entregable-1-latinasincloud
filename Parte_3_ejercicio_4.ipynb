{
  "nbformat": 4,
  "nbformat_minor": 0,
  "metadata": {
    "colab": {
      "provenance": [],
      "authorship_tag": "ABX9TyN4DZpRb6lWUX9cZBLTX+R0",
      "include_colab_link": true
    },
    "kernelspec": {
      "name": "python3",
      "display_name": "Python 3"
    },
    "language_info": {
      "name": "python"
    }
  },
  "cells": [
    {
      "cell_type": "markdown",
      "metadata": {
        "id": "view-in-github",
        "colab_type": "text"
      },
      "source": [
        "<a href=\"https://colab.research.google.com/github/martinaemunoz/entregable-1-latinasincloud/blob/ea_FirstAssignment/Parte_3_ejercicio_4.ipynb\" target=\"_parent\"><img src=\"https://colab.research.google.com/assets/colab-badge.svg\" alt=\"Open In Colab\"/></a>"
      ]
    },
    {
      "cell_type": "markdown",
      "source": [
        "# Creación de un DataFrame con Pandas:\n"
      ],
      "metadata": {
        "id": "hm8tvY9zLi6H"
      }
    },
    {
      "cell_type": "code",
      "source": [
        "import pandas as pd\n",
        "#Diccionario de listas\n",
        "datos = { 'Nombre': ['Ana', 'Luis', 'Marta', 'Juan'],\n",
        "         'Edad': [28, 34, 45, 23],\n",
        "          'Ciudad': ['Madrid', 'Bogotá', 'Lima', 'México DF'] }\n",
        "#Filas y columnas\n",
        "filas = [1, 2, 3, 4]\n",
        "columnas = ['Nombre', 'Edad', 'Ciudad']\n",
        "#DataFrame\n",
        "df = pd.DataFrame(datos, index=filas, columns=columnas)\n",
        "print(df)"
      ],
      "metadata": {
        "colab": {
          "base_uri": "https://localhost:8080/"
        },
        "id": "Xj7w-rRfLiX4",
        "outputId": "659d9999-265a-4336-c141-c49e8cb0b28c"
      },
      "execution_count": 6,
      "outputs": [
        {
          "output_type": "stream",
          "name": "stdout",
          "text": [
            "  Nombre  Edad     Ciudad\n",
            "1    Ana    28     Madrid\n",
            "2   Luis    34     Bogotá\n",
            "3  Marta    45       Lima\n",
            "4   Juan    23  México DF\n"
          ]
        }
      ]
    }
  ]
}